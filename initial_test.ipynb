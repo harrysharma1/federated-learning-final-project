{
 "cells": [
  {
   "cell_type": "code",
   "execution_count": null,
   "id": "4c59ed4a",
   "metadata": {},
   "outputs": [],
   "source": [
    "%pip install tensorflow-federated"
   ]
  },
  {
   "cell_type": "code",
   "execution_count": null,
   "id": "84f038d4-b50d-4d8c-95a0-541b3364d6e7",
   "metadata": {},
   "outputs": [],
   "source": [
    "# Importing tensor flow\n",
    "import tensorflow as tf\n",
    "import tensorflow_federated as tff\n",
    "from tensorflow.keras.preprocessing.image import ImageDataGenerator\n",
    "from tensorflow.keras.optimizers import Adam"
   ]
  },
  {
   "cell_type": "code",
   "execution_count": null,
   "id": "b6f2aafe-cbb0-4af7-bf48-2874c8361944",
   "metadata": {},
   "outputs": [],
   "source": [
    "model = tf.keras.applications.ResNet50(\n",
    "    include_top=False,\n",
    "    weights='imagenet',\n",
    "    input_tensor=None,\n",
    "    input_shape=(224,224,3),\n",
    "    pooling=None,\n",
    "    classes=1000,\n",
    "    classifier_activation='sigmoid'\n",
    ")"
   ]
  },
  {
   "cell_type": "code",
   "execution_count": null,
   "id": "fe3366a5",
   "metadata": {},
   "outputs": [],
   "source": []
  }
 ],
 "metadata": {
  "kernelspec": {
   "display_name": "venv",
   "language": "python",
   "name": "python3"
  },
  "language_info": {
   "codemirror_mode": {
    "name": "ipython",
    "version": 3
   },
   "file_extension": ".py",
   "mimetype": "text/x-python",
   "name": "python",
   "nbconvert_exporter": "python",
   "pygments_lexer": "ipython3",
   "version": "3.10.15"
  }
 },
 "nbformat": 4,
 "nbformat_minor": 5
}
